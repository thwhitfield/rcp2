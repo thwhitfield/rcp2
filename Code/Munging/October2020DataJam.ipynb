{
 "cells": [
  {
   "cell_type": "code",
   "execution_count": 1,
   "metadata": {},
   "outputs": [],
   "source": [
    "import pandas as pd\n",
    "import numpy as np\n",
    "import matplotlib.pyplot as plt\n",
    "import seaborn as sns\n",
    "from pathlib import Path"
   ]
  },
  {
   "cell_type": "code",
   "execution_count": 2,
   "metadata": {},
   "outputs": [],
   "source": [
    "main_path = Path.cwd().parent.parent\n",
    "data_path = main_path / 'Data'\n"
   ]
  },
  {
   "cell_type": "code",
   "execution_count": 3,
   "metadata": {},
   "outputs": [],
   "source": [
    "path = Path.cwd().parent.parent\n",
    "LoadAndCleanACS = main_path /'src' /'data'/ 'LoadAndCleanACS.py'\n",
    "%run $LoadAndCleanACS"
   ]
  },
  {
   "cell_type": "code",
   "execution_count": 6,
   "metadata": {},
   "outputs": [
    {
     "data": {
      "text/plain": [
       "['inc_pct_poverty',\n",
       " 'age_pct_under25',\n",
       " 'age_pct_25_64',\n",
       " 'age_pct_over65',\n",
       " 'educ_no_school',\n",
       " 'educ_nursery_4th',\n",
       " 'educ_5th_6th',\n",
       " 'educ_7th_8th',\n",
       " 'educ_9th',\n",
       " 'educ_10th',\n",
       " 'educ_11th',\n",
       " 'educ_12th_no_diploma',\n",
       " 'educ_high_school_grad',\n",
       " 'educ_col_less_1_yr',\n",
       " 'educ_some_col_no_grad',\n",
       " 'educ_associates',\n",
       " 'educ_bachelors',\n",
       " 'educ_masters',\n",
       " 'educ_professional',\n",
       " 'educ_docterate',\n",
       " 'worked_past_12_mo',\n",
       " 'did_not_work_past_12_mo',\n",
       " 'race_pct_white',\n",
       " 'race_pct_whitenh',\n",
       " 'race_pct_nonwhite',\n",
       " 'race_pct_nonwhitenh',\n",
       " 'race_pct_amind',\n",
       " 'race_pct_black',\n",
       " 'race_pct_hisp',\n",
       " 'house_pct_family',\n",
       " 'house_pct_family_married',\n",
       " 'house_pct_family_male_hh',\n",
       " 'house_pct_family_female_hh',\n",
       " 'house_pct_non_family',\n",
       " 'house_pct_live_alone',\n",
       " 'house_pct_no_live_alone',\n",
       " 'house_pct_occupied',\n",
       " 'house_pct_vacant',\n",
       " 'house_pct_ownd_occupied',\n",
       " 'house_pct_rent_occupied',\n",
       " 'house_pct_1_room',\n",
       " 'house_pct_2_room',\n",
       " 'house_pct_3_room',\n",
       " 'house_pct_4_room',\n",
       " 'house_pct_5_room',\n",
       " 'house_pct_6_room',\n",
       " 'house_pct_7_room',\n",
       " 'house_pct_8_room',\n",
       " 'house_pct_9_plus_room',\n",
       " 'house_yr_pct_2014_plus',\n",
       " 'house_yr_pct_2010_2013',\n",
       " 'house_yr_pct_2000_2009',\n",
       " 'house_yr_pct_1990_1999',\n",
       " 'house_yr_pct_1980_1989',\n",
       " 'house_yr_pct_1970_1979',\n",
       " 'house_yr_pct_1960_1969',\n",
       " 'house_yr_pct_1950_1959',\n",
       " 'house_yr_pct_1940_1949',\n",
       " 'house_yr_pct_earlier_1939',\n",
       " 'heat_pct_utility_gas',\n",
       " 'heat_pct_bottled_tank_lpgas',\n",
       " 'heat_pct_electricity',\n",
       " 'heat_pct_fueloil_kerosene',\n",
       " 'heat_pct_coal',\n",
       " 'heat_pct_wood',\n",
       " 'heat_pct_solar',\n",
       " 'heat_pct_other',\n",
       " 'heat_pct_no_fuel',\n",
       " 'house_pct_complete_plumb',\n",
       " 'house_pct_incomplete_plumb',\n",
       " 'house_pct_complete_kitchen',\n",
       " 'house_pct_incomplete_kitchen',\n",
       " 'house_w_1_mort',\n",
       " 'house_w_2_mort',\n",
       " 'house_w_home_equity_loan',\n",
       " 'house_w_both_2_mort_and_loan',\n",
       " 'house_no_mort',\n",
       " 'house_val_less_10K',\n",
       " 'house_val_10K_15K',\n",
       " 'house_val_15K_20K',\n",
       " 'house_val_20K_25K',\n",
       " 'house_val_25K_30K',\n",
       " 'house_val_30K_35K',\n",
       " 'house_val_35K_40K',\n",
       " 'house_val_40K_50K',\n",
       " 'house_val_50K_60K',\n",
       " 'house_val_60K_70K',\n",
       " 'house_val_70K_80K',\n",
       " 'house_val_80K_90K',\n",
       " 'house_val_90K_100K',\n",
       " 'house_val_100K_125K',\n",
       " 'house_val_125K_150K',\n",
       " 'house_val_150K_175K',\n",
       " 'house_val_175K_200K',\n",
       " 'house_val_200K_250K',\n",
       " 'house_val_250K_300K',\n",
       " 'house_val_300K_400K',\n",
       " 'house_val_400K_500K',\n",
       " 'house_val_500K_750K',\n",
       " 'house_val_750K_1M',\n",
       " 'house_val_1M_1.5M',\n",
       " 'house_val_1.5M_2M',\n",
       " 'house_val_more_2M']"
      ]
     },
     "execution_count": 6,
     "metadata": {},
     "output_type": "execute_result"
    }
   ],
   "source": [
    "#From highly correlated pairs, remove one of the Pair Vars from the ACS dataset except for the 'mort' variables\n",
    "ACS = ACS.drop(['house_pct_vacant', 'did_not_work_past_12_mo', 'house_pct_non_family', 'house_pct_rent_occupied',\n",
    "                           'race_pct_nonwhite', 'race_pct_nonwhitenh', 'house_pct_incomplete_plumb',\n",
    "                           'house_pct_incomplete_kitchen', 'race_pct_whitenh','house_no_mort',\n",
    "                           'race_pct_black','house_pct_live_alone','house_pct_family_married'], axis=1) \n",
    "\n",
    "ACS.columns.tolist()"
   ]
  },
  {
   "cell_type": "code",
   "execution_count": null,
   "metadata": {},
   "outputs": [],
   "source": [
    "#ACS Munging\n",
    "# save this code as ACS_Muning_[Data_Munged]_[initials]\n",
    "###### your code here###################\n",
    "\n",
    "\n",
    "\n",
    "########################################\n"
   ]
  },
  {
   "cell_type": "code",
   "execution_count": null,
   "metadata": {},
   "outputs": [],
   "source": [
    "S"
   ]
  }
 ],
 "metadata": {
  "kernelspec": {
   "display_name": "Python 3",
   "language": "python",
   "name": "python3"
  },
  "language_info": {
   "codemirror_mode": {
    "name": "ipython",
    "version": 3
   },
   "file_extension": ".py",
   "mimetype": "text/x-python",
   "name": "python",
   "nbconvert_exporter": "python",
   "pygments_lexer": "ipython3",
   "version": "3.8.3"
  }
 },
 "nbformat": 4,
 "nbformat_minor": 4
}
